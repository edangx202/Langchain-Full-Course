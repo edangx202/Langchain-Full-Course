{
 "cells": [
  {
   "cell_type": "code",
   "execution_count": 1,
   "metadata": {},
   "outputs": [],
   "source": [
    "from dotenv import load_dotenv\n",
    "import os\n",
    "\n",
    "# Laden Sie die Umgebungsvariablen aus der .env-Datei\n",
    "load_dotenv()\n",
    "API_KEY = os.environ.get(\"API_KEY\")"
   ]
  },
  {
   "attachments": {},
   "cell_type": "markdown",
   "metadata": {},
   "source": []
  },
  {
   "cell_type": "code",
   "execution_count": 2,
   "metadata": {},
   "outputs": [],
   "source": [
    "from langchain.chat_models import ChatOpenAI\n",
    "from langchain.agents import load_tools, initialize_agent\n",
    "from langchain.agents import AgentType\n",
    "from langchain.tools import AIPluginTool"
   ]
  },
  {
   "attachments": {},
   "cell_type": "markdown",
   "metadata": {},
   "source": [
    "Read the ai-plugin.json to get information of how to use the API and what output to expect"
   ]
  },
  {
   "cell_type": "code",
   "execution_count": 3,
   "metadata": {},
   "outputs": [],
   "source": [
    "tool = AIPluginTool.from_plugin_url(\"https://www.klarna.com/.well-known/ai-plugin.json\")"
   ]
  },
  {
   "cell_type": "code",
   "execution_count": 4,
   "metadata": {},
   "outputs": [
    {
     "name": "stdout",
     "output_type": "stream",
     "text": [
      "\n",
      "\n",
      "\u001b[1m> Entering new  chain...\u001b[0m\n",
      "\u001b[32;1m\u001b[1;3mI need to use the Klarna Shopping API to search for available shirts.\n",
      "Action: KlarnaProducts\n",
      "Action Input: None\u001b[0m\n",
      "Observation: \u001b[38;5;200m\u001b[1;3mUsage Guide: Assistant uses the Klarna plugin to get relevant product suggestions for any shopping or product discovery purpose. Assistant will reply with the following 3 paragraphs 1) Search Results 2) Product Comparison of the Search Results 3) Followup Questions. The first paragraph contains a list of the products with their attributes listed clearly and concisely as bullet points under the product, together with a link to the product and an explanation. Links will always be returned and should be shown to the user. The second paragraph compares the results returned in a summary sentence starting with \"In summary\". Assistant comparisons consider only the most important features of the products that will help them fit the users request, and each product mention is brief, short and concise. In the third paragraph assistant always asks helpful follow-up questions and end with a question mark. When assistant is asking a follow-up question, it uses it's product expertise to provide information pertaining to the subject of the user's request that may guide them in their search for the right product.\n",
      "\n",
      "OpenAPI Spec: {'openapi': '3.0.1', 'info': {'version': 'v0', 'title': 'Open AI Klarna product Api'}, 'servers': [{'url': 'https://www.klarna.com/us/shopping'}], 'tags': [{'name': 'open-ai-product-endpoint', 'description': 'Open AI Product Endpoint. Query for products.'}], 'paths': {'/public/openai/v0/products': {'get': {'tags': ['open-ai-product-endpoint'], 'summary': 'API for fetching Klarna product information', 'operationId': 'productsUsingGET', 'parameters': [{'name': 'countryCode', 'in': 'query', 'description': 'ISO 3166 country code with 2 characters based on the user location. Currently, only US, GB, DE, SE and DK are supported.', 'required': True, 'schema': {'type': 'string'}}, {'name': 'q', 'in': 'query', 'description': \"A precise query that matches one very small category or product that needs to be searched for to find the products the user is looking for. If the user explicitly stated what they want, use that as a query. The query is as specific as possible to the product name or category mentioned by the user in its singular form, and don't contain any clarifiers like latest, newest, cheapest, budget, premium, expensive or similar. The query is always taken from the latest topic, if there is a new topic a new query is started. If the user speaks another language than English, translate their request into English (example: translate fia med knuff to ludo board game)!\", 'required': True, 'schema': {'type': 'string'}}, {'name': 'size', 'in': 'query', 'description': 'number of products returned', 'required': False, 'schema': {'type': 'integer'}}, {'name': 'min_price', 'in': 'query', 'description': \"(Optional) Minimum price in local currency for the product searched for. Either explicitly stated by the user or implicitly inferred from a combination of the user's request and the kind of product searched for.\", 'required': False, 'schema': {'type': 'integer'}}, {'name': 'max_price', 'in': 'query', 'description': \"(Optional) Maximum price in local currency for the product searched for. Either explicitly stated by the user or implicitly inferred from a combination of the user's request and the kind of product searched for.\", 'required': False, 'schema': {'type': 'integer'}}], 'responses': {'200': {'description': 'Products found', 'content': {'application/json': {'schema': {'$ref': '#/components/schemas/ProductResponse'}}}}, '503': {'description': 'one or more services are unavailable'}}, 'deprecated': False}}}, 'components': {'schemas': {'Product': {'type': 'object', 'properties': {'attributes': {'type': 'array', 'items': {'type': 'string'}}, 'name': {'type': 'string'}, 'price': {'type': 'string'}, 'url': {'type': 'string'}}, 'title': 'Product'}, 'ProductResponse': {'type': 'object', 'properties': {'products': {'type': 'array', 'items': {'$ref': '#/components/schemas/Product'}}}, 'title': 'ProductResponse'}}}}\u001b[0m\n",
      "Thought:\u001b[32;1m\u001b[1;3mI need to use the Klarna Shopping API to search for available shirts.\n",
      "Action: requests_get\n",
      "Action Input: 'https://www.klarna.com/us/shopping/public/openai/v0/products?countryCode=US&q=shirts&size=10'\u001b[0m\n",
      "Observation: \u001b[36;1m\u001b[1;3m{\"products\":[{\"name\":\"Burberry Somerton Check Stretch Cotton Shirt - Black/Red/Beige\",\"url\":\"https://www.klarna.com/us/shopping/pl/cl10001/3201826487/Clothing/Burberry-Somerton-Check-Stretch-Cotton-Shirt-Black-Red-Beige/?utm_source=openai&ref-site=openai_plugin\",\"price\":\"$486.00\",\"attributes\":[\"Material:Elastane/Lycra/Spandex,Cotton\",\"Size:XL,L,M,XXL\",\"Target Group:Man\",\"Color:Beige\"]},{\"name\":\"Columbia PFG Bahama II Short Sleeve Shirt - Black\",\"url\":\"https://www.klarna.com/us/shopping/pl/cl10001/3201718445/Clothing/Columbia-PFG-Bahama-II-Short-Sleeve-Shirt-Black/?utm_source=openai&ref-site=openai_plugin\",\"price\":\"$28.49\",\"attributes\":[\"Material:Nylon\",\"Target Group:Man\",\"Color:Black\",\"Size:XXS,S,XL,XS,L,M,XXL\"]},{\"name\":\"Brixton Bowery Flannel Shirt\",\"url\":\"https://www.klarna.com/us/shopping/pl/cl10001/3202331096/Clothing/Brixton-Bowery-Flannel-Shirt/?utm_source=openai&ref-site=openai_plugin\",\"price\":\"$34.48\",\"attributes\":[\"Material:Cotton\",\"Target Group:Man\",\"Color:Gray,Blue,Black,Orange\",\"Size:XL,3XL,4XL,5XL,L,M,XXL\"]},{\"name\":\"Burberry Check Poplin Shirt\",\"url\":\"https://www.klarna.com/us/shopping/pl/cl10001/3201810981/Clothing/Burberry-Check-Poplin-Shirt/?utm_source=openai&ref-site=openai_plugin\",\"price\":\"$250.00\",\"attributes\":[\"Material:Cotton\",\"Target Group:Man\",\"Color:Gray,Blue,Beige\",\"Size:S,XL,XS,L,M,XXL\"]},{\"name\":\"KingSize Men's Big & Tall Short-Sleeve Plaid Sport Shirt\",\"url\":\"https://www.klarna.com/us/shopping/pl/cl10001/3202349515/Clothing/KingSize-Men-s-Big-Tall-Short-Sleeve-Plaid-Sport-Shirt/?utm_source=openai&ref-site=openai_plugin\",\"price\":\"$27.73\",\"attributes\":[\"Material:Polyester,Cotton\",\"Target Group:Man\",\"Color:Blue\",\"Size:S,XL,XS,L,M,XXL\"]},{\"name\":\"Roper Mens American Flag L/S Shirt\",\"url\":\"https://www.klarna.com/us/shopping/pl/cl10001/3201809378/Clothing/Roper-Mens-American-Flag-L-S-Shirt/?utm_source=openai&ref-site=openai_plugin\",\"price\":\"$41.69\",\"attributes\":[\"Material:Cotton\",\"Target Group:Man\",\"Color:Red\",\"Size:S,XL,L,M\"]},{\"name\":\"Amiri Multicolor California Shirt\",\"url\":\"https://www.klarna.com/us/shopping/pl/cl10001/3206578054/Clothing/Amiri-Multicolor-California-Shirt/?utm_source=openai&ref-site=openai_plugin\",\"price\":\"$570.00\",\"attributes\":[\"Target Group:Man\",\"Size:S,3XL,XS,L,M,XXL\"]},{\"name\":\"Burberry SS Check Stretch Cotton Shirt - Archive Beige\",\"url\":\"https://www.klarna.com/us/shopping/pl/cl359/3200280807/Children-s-Clothing/Burberry-SS-Check-Stretch-Cotton-Shirt-Archive-Beige/?utm_source=openai&ref-site=openai_plugin\",\"price\":\"$174.33\",\"attributes\":[\"Color:Beige\",\"Model:Boy\",\"Age (Months):24-36M\"]},{\"name\":\"Columbia Tamiami II Short-Sleeve Shirt - White\",\"url\":\"https://www.klarna.com/us/shopping/pl/cl10001/3201755912/Clothing/Columbia-Tamiami-II-Short-Sleeve-Shirt-White/?utm_source=openai&ref-site=openai_plugin\",\"price\":\"$23.31\",\"attributes\":[\"Material:Polyester\",\"Target Group:Man\",\"Color:White\",\"Size:S,XL,XS,L,M,XXL\"]},{\"name\":\"Drop Neck Oxford Shirt\",\"url\":\"https://www.klarna.com/us/shopping/pl/cl10001/3202316183/Clothing/Drop-Neck-Oxford-Shirt/?utm_source=openai&ref-site=openai_plugin\",\"price\":\"$320.00\",\"attributes\":[\"Color:White,Blue\",\"Size:S,XS,L\"]}]}\u001b[0m\n",
      "Thought:"
     ]
    },
    {
     "name": "stderr",
     "output_type": "stream",
     "text": [
      "Retrying langchain.chat_models.openai.ChatOpenAI.completion_with_retry.<locals>._completion_with_retry in 1.0 seconds as it raised RateLimitError: Rate limit reached for default-gpt-3.5-turbo in organization org-5D5bRluMBSUYTBPyfdcJuVFj on requests per min. Limit: 3 / min. Please try again in 20s. Contact us through our help center at help.openai.com if you continue to have issues. Please add a payment method to your account to increase your rate limit. Visit https://platform.openai.com/account/billing to add a payment method..\n"
     ]
    },
    {
     "name": "stdout",
     "output_type": "stream",
     "text": [
      "\u001b[32;1m\u001b[1;3mI have found a list of available shirts from the Klarna Shopping API.\n",
      "Action: None\n",
      "Action Input: None\u001b[0m\n",
      "Observation: None is not a valid tool, try another one.\n",
      "Thought:"
     ]
    },
    {
     "name": "stderr",
     "output_type": "stream",
     "text": [
      "Retrying langchain.chat_models.openai.ChatOpenAI.completion_with_retry.<locals>._completion_with_retry in 2.0 seconds as it raised RateLimitError: Rate limit reached for default-gpt-3.5-turbo in organization org-5D5bRluMBSUYTBPyfdcJuVFj on requests per min. Limit: 3 / min. Please try again in 20s. Contact us through our help center at help.openai.com if you continue to have issues. Please add a payment method to your account to increase your rate limit. Visit https://platform.openai.com/account/billing to add a payment method..\n",
      "Retrying langchain.chat_models.openai.ChatOpenAI.completion_with_retry.<locals>._completion_with_retry in 4.0 seconds as it raised RateLimitError: Rate limit reached for default-gpt-3.5-turbo in organization org-5D5bRluMBSUYTBPyfdcJuVFj on requests per min. Limit: 3 / min. Please try again in 20s. Contact us through our help center at help.openai.com if you continue to have issues. Please add a payment method to your account to increase your rate limit. Visit https://platform.openai.com/account/billing to add a payment method..\n",
      "Retrying langchain.chat_models.openai.ChatOpenAI.completion_with_retry.<locals>._completion_with_retry in 8.0 seconds as it raised RateLimitError: Rate limit reached for default-gpt-3.5-turbo in organization org-5D5bRluMBSUYTBPyfdcJuVFj on requests per min. Limit: 3 / min. Please try again in 20s. Contact us through our help center at help.openai.com if you continue to have issues. Please add a payment method to your account to increase your rate limit. Visit https://platform.openai.com/account/billing to add a payment method..\n",
      "Retrying langchain.chat_models.openai.ChatOpenAI.completion_with_retry.<locals>._completion_with_retry in 1.0 seconds as it raised RateLimitError: Rate limit reached for default-gpt-3.5-turbo in organization org-5D5bRluMBSUYTBPyfdcJuVFj on requests per min. Limit: 3 / min. Please try again in 20s. Contact us through our help center at help.openai.com if you continue to have issues. Please add a payment method to your account to increase your rate limit. Visit https://platform.openai.com/account/billing to add a payment method..\n"
     ]
    },
    {
     "name": "stdout",
     "output_type": "stream",
     "text": [
      "\u001b[32;1m\u001b[1;3mI need to review the list of available tools and choose the appropriate one to answer the question.\n",
      "Action: Review available tools\n",
      "Action Input: None\u001b[0m\n",
      "Observation: Review available tools is not a valid tool, try another one.\n",
      "Thought:"
     ]
    },
    {
     "name": "stderr",
     "output_type": "stream",
     "text": [
      "Retrying langchain.chat_models.openai.ChatOpenAI.completion_with_retry.<locals>._completion_with_retry in 2.0 seconds as it raised RateLimitError: Rate limit reached for default-gpt-3.5-turbo in organization org-5D5bRluMBSUYTBPyfdcJuVFj on requests per min. Limit: 3 / min. Please try again in 20s. Contact us through our help center at help.openai.com if you continue to have issues. Please add a payment method to your account to increase your rate limit. Visit https://platform.openai.com/account/billing to add a payment method..\n",
      "Retrying langchain.chat_models.openai.ChatOpenAI.completion_with_retry.<locals>._completion_with_retry in 4.0 seconds as it raised RateLimitError: Rate limit reached for default-gpt-3.5-turbo in organization org-5D5bRluMBSUYTBPyfdcJuVFj on requests per min. Limit: 3 / min. Please try again in 20s. Contact us through our help center at help.openai.com if you continue to have issues. Please add a payment method to your account to increase your rate limit. Visit https://platform.openai.com/account/billing to add a payment method..\n",
      "Retrying langchain.chat_models.openai.ChatOpenAI.completion_with_retry.<locals>._completion_with_retry in 8.0 seconds as it raised RateLimitError: Rate limit reached for default-gpt-3.5-turbo in organization org-5D5bRluMBSUYTBPyfdcJuVFj on requests per min. Limit: 3 / min. Please try again in 20s. Contact us through our help center at help.openai.com if you continue to have issues. Please add a payment method to your account to increase your rate limit. Visit https://platform.openai.com/account/billing to add a payment method..\n"
     ]
    },
    {
     "name": "stdout",
     "output_type": "stream",
     "text": [
      "\u001b[32;1m\u001b[1;3mI need to use requests_get to retrieve the list of available shirts from the Klarna Shopping API.\n",
      "Action: requests_get\n",
      "Action Input: 'https://www.klarna.com/us/shopping/public/openai/v0/products?countryCode=US&q=shirts&size=10'\u001b[0m"
     ]
    },
    {
     "name": "stderr",
     "output_type": "stream",
     "text": [
      "Retrying langchain.chat_models.openai.ChatOpenAI.completion_with_retry.<locals>._completion_with_retry in 1.0 seconds as it raised RateLimitError: Rate limit reached for default-gpt-3.5-turbo in organization org-5D5bRluMBSUYTBPyfdcJuVFj on requests per min. Limit: 3 / min. Please try again in 20s. Contact us through our help center at help.openai.com if you continue to have issues. Please add a payment method to your account to increase your rate limit. Visit https://platform.openai.com/account/billing to add a payment method..\n"
     ]
    },
    {
     "name": "stdout",
     "output_type": "stream",
     "text": [
      "\n",
      "Observation: \u001b[36;1m\u001b[1;3m{\"products\":[{\"name\":\"Burberry Somerton Check Stretch Cotton Shirt - Black/Red/Beige\",\"url\":\"https://www.klarna.com/us/shopping/pl/cl10001/3201826487/Clothing/Burberry-Somerton-Check-Stretch-Cotton-Shirt-Black-Red-Beige/?utm_source=openai&ref-site=openai_plugin\",\"price\":\"$486.00\",\"attributes\":[\"Material:Elastane/Lycra/Spandex,Cotton\",\"Size:XL,L,M,XXL\",\"Target Group:Man\",\"Color:Beige\"]},{\"name\":\"Columbia PFG Bahama II Short Sleeve Shirt - Black\",\"url\":\"https://www.klarna.com/us/shopping/pl/cl10001/3201718445/Clothing/Columbia-PFG-Bahama-II-Short-Sleeve-Shirt-Black/?utm_source=openai&ref-site=openai_plugin\",\"price\":\"$28.49\",\"attributes\":[\"Material:Nylon\",\"Target Group:Man\",\"Color:Black\",\"Size:XXS,S,XL,XS,L,M,XXL\"]},{\"name\":\"Brixton Bowery Flannel Shirt\",\"url\":\"https://www.klarna.com/us/shopping/pl/cl10001/3202331096/Clothing/Brixton-Bowery-Flannel-Shirt/?utm_source=openai&ref-site=openai_plugin\",\"price\":\"$34.48\",\"attributes\":[\"Material:Cotton\",\"Target Group:Man\",\"Color:Gray,Blue,Black,Orange\",\"Size:XL,3XL,4XL,5XL,L,M,XXL\"]},{\"name\":\"Burberry Check Poplin Shirt\",\"url\":\"https://www.klarna.com/us/shopping/pl/cl10001/3201810981/Clothing/Burberry-Check-Poplin-Shirt/?utm_source=openai&ref-site=openai_plugin\",\"price\":\"$250.00\",\"attributes\":[\"Material:Cotton\",\"Target Group:Man\",\"Color:Gray,Blue,Beige\",\"Size:S,XL,XS,L,M,XXL\"]},{\"name\":\"KingSize Men's Big & Tall Short-Sleeve Plaid Sport Shirt\",\"url\":\"https://www.klarna.com/us/shopping/pl/cl10001/3202349515/Clothing/KingSize-Men-s-Big-Tall-Short-Sleeve-Plaid-Sport-Shirt/?utm_source=openai&ref-site=openai_plugin\",\"price\":\"$27.73\",\"attributes\":[\"Material:Polyester,Cotton\",\"Target Group:Man\",\"Color:Blue\",\"Size:S,XL,XS,L,M,XXL\"]},{\"name\":\"Roper Mens American Flag L/S Shirt\",\"url\":\"https://www.klarna.com/us/shopping/pl/cl10001/3201809378/Clothing/Roper-Mens-American-Flag-L-S-Shirt/?utm_source=openai&ref-site=openai_plugin\",\"price\":\"$41.69\",\"attributes\":[\"Material:Cotton\",\"Target Group:Man\",\"Color:Red\",\"Size:S,XL,L,M\"]},{\"name\":\"Amiri Multicolor California Shirt\",\"url\":\"https://www.klarna.com/us/shopping/pl/cl10001/3206578054/Clothing/Amiri-Multicolor-California-Shirt/?utm_source=openai&ref-site=openai_plugin\",\"price\":\"$570.00\",\"attributes\":[\"Target Group:Man\",\"Size:S,3XL,XS,L,M,XXL\"]},{\"name\":\"Burberry SS Check Stretch Cotton Shirt - Archive Beige\",\"url\":\"https://www.klarna.com/us/shopping/pl/cl359/3200280807/Children-s-Clothing/Burberry-SS-Check-Stretch-Cotton-Shirt-Archive-Beige/?utm_source=openai&ref-site=openai_plugin\",\"price\":\"$174.33\",\"attributes\":[\"Color:Beige\",\"Model:Boy\",\"Age (Months):24-36M\"]},{\"name\":\"Columbia Tamiami II Short-Sleeve Shirt - White\",\"url\":\"https://www.klarna.com/us/shopping/pl/cl10001/3201755912/Clothing/Columbia-Tamiami-II-Short-Sleeve-Shirt-White/?utm_source=openai&ref-site=openai_plugin\",\"price\":\"$23.31\",\"attributes\":[\"Material:Polyester\",\"Target Group:Man\",\"Color:White\",\"Size:S,XL,XS,L,M,XXL\"]},{\"name\":\"Drop Neck Oxford Shirt\",\"url\":\"https://www.klarna.com/us/shopping/pl/cl10001/3202316183/Clothing/Drop-Neck-Oxford-Shirt/?utm_source=openai&ref-site=openai_plugin\",\"price\":\"$320.00\",\"attributes\":[\"Color:White,Blue\",\"Size:S,XS,L\"]}]}\u001b[0m\n",
      "Thought:"
     ]
    },
    {
     "name": "stderr",
     "output_type": "stream",
     "text": [
      "Retrying langchain.chat_models.openai.ChatOpenAI.completion_with_retry.<locals>._completion_with_retry in 2.0 seconds as it raised RateLimitError: Rate limit reached for default-gpt-3.5-turbo in organization org-5D5bRluMBSUYTBPyfdcJuVFj on requests per min. Limit: 3 / min. Please try again in 20s. Contact us through our help center at help.openai.com if you continue to have issues. Please add a payment method to your account to increase your rate limit. Visit https://platform.openai.com/account/billing to add a payment method..\n",
      "Retrying langchain.chat_models.openai.ChatOpenAI.completion_with_retry.<locals>._completion_with_retry in 4.0 seconds as it raised RateLimitError: Rate limit reached for default-gpt-3.5-turbo in organization org-5D5bRluMBSUYTBPyfdcJuVFj on requests per min. Limit: 3 / min. Please try again in 20s. Contact us through our help center at help.openai.com if you continue to have issues. Please add a payment method to your account to increase your rate limit. Visit https://platform.openai.com/account/billing to add a payment method..\n",
      "Retrying langchain.chat_models.openai.ChatOpenAI.completion_with_retry.<locals>._completion_with_retry in 8.0 seconds as it raised RateLimitError: Rate limit reached for default-gpt-3.5-turbo in organization org-5D5bRluMBSUYTBPyfdcJuVFj on requests per min. Limit: 3 / min. Please try again in 20s. Contact us through our help center at help.openai.com if you continue to have issues. Please add a payment method to your account to increase your rate limit. Visit https://platform.openai.com/account/billing to add a payment method..\n",
      "Retrying langchain.chat_models.openai.ChatOpenAI.completion_with_retry.<locals>._completion_with_retry in 16.0 seconds as it raised RateLimitError: Rate limit reached for default-gpt-3.5-turbo in organization org-5D5bRluMBSUYTBPyfdcJuVFj on requests per min. Limit: 3 / min. Please try again in 20s. Contact us through our help center at help.openai.com if you continue to have issues. Please add a payment method to your account to increase your rate limit. Visit https://platform.openai.com/account/billing to add a payment method..\n"
     ]
    },
    {
     "name": "stdout",
     "output_type": "stream",
     "text": [
      "\u001b[32;1m\u001b[1;3mThe available shirts from the Klarna Shopping API are: Burberry Somerton Check Stretch Cotton Shirt - Black/Red/Beige, Columbia PFG Bahama II Short Sleeve Shirt - Black, Brixton Bowery Flannel Shirt, Burberry Check Poplin Shirt, KingSize Men's Big & Tall Short-Sleeve Plaid Sport Shirt, Roper Mens American Flag L/S Shirt, Amiri Multicolor California Shirt, Burberry SS Check Stretch Cotton Shirt - Archive Beige, Columbia Tamiami II Short-Sleeve Shirt - White, and Drop Neck Oxford Shirt. \n",
      "Final Answer: The available shirts from the Klarna Shopping API are: Burberry Somerton Check Stretch Cotton Shirt - Black/Red/Beige, Columbia PFG Bahama II Short Sleeve Shirt - Black, Brixton Bowery Flannel Shirt, Burberry Check Poplin Shirt, KingSize Men's Big & Tall Short-Sleeve Plaid Sport Shirt, Roper Mens American Flag L/S Shirt, Amiri Multicolor California Shirt, Burberry SS Check Stretch Cotton Shirt - Archive Beige, Columbia Tamiami II Short-Sleeve Shirt - White, and Drop Neck Oxford Shirt.\u001b[0m\n",
      "\n",
      "\u001b[1m> Finished chain.\u001b[0m\n"
     ]
    },
    {
     "data": {
      "text/plain": [
       "\"The available shirts from the Klarna Shopping API are: Burberry Somerton Check Stretch Cotton Shirt - Black/Red/Beige, Columbia PFG Bahama II Short Sleeve Shirt - Black, Brixton Bowery Flannel Shirt, Burberry Check Poplin Shirt, KingSize Men's Big & Tall Short-Sleeve Plaid Sport Shirt, Roper Mens American Flag L/S Shirt, Amiri Multicolor California Shirt, Burberry SS Check Stretch Cotton Shirt - Archive Beige, Columbia Tamiami II Short-Sleeve Shirt - White, and Drop Neck Oxford Shirt.\""
      ]
     },
     "execution_count": 4,
     "metadata": {},
     "output_type": "execute_result"
    }
   ],
   "source": [
    "llm = ChatOpenAI(temperature=0)\n",
    "tools = load_tools([\"requests_all\"])\n",
    "tools += [tool]\n",
    "\n",
    "agent_chain = initialize_agent(\n",
    "    tools, llm, agent=AgentType.ZERO_SHOT_REACT_DESCRIPTION, verbose=True\n",
    ")\n",
    "agent_chain.run(\"what shirts are available in klarna?\")"
   ]
  }
 ],
 "metadata": {
  "kernelspec": {
   "display_name": "autogpt",
   "language": "python",
   "name": "python3"
  },
  "language_info": {
   "codemirror_mode": {
    "name": "ipython",
    "version": 3
   },
   "file_extension": ".py",
   "mimetype": "text/x-python",
   "name": "python",
   "nbconvert_exporter": "python",
   "pygments_lexer": "ipython3",
   "version": "3.11.1"
  },
  "orig_nbformat": 4
 },
 "nbformat": 4,
 "nbformat_minor": 2
}
